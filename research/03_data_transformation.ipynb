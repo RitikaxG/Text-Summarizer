{
 "cells": [
  {
   "cell_type": "code",
   "execution_count": 1,
   "metadata": {},
   "outputs": [],
   "source": [
    "import os"
   ]
  },
  {
   "cell_type": "code",
   "execution_count": 2,
   "metadata": {},
   "outputs": [
    {
     "data": {
      "text/plain": [
       "'/Users/ritikagupta/Desktop/Text-Summarizer/research'"
      ]
     },
     "execution_count": 2,
     "metadata": {},
     "output_type": "execute_result"
    }
   ],
   "source": [
    "%pwd"
   ]
  },
  {
   "cell_type": "code",
   "execution_count": 3,
   "metadata": {},
   "outputs": [],
   "source": [
    "os.chdir(\"../\")"
   ]
  },
  {
   "cell_type": "code",
   "execution_count": 4,
   "metadata": {},
   "outputs": [
    {
     "data": {
      "text/plain": [
       "'/Users/ritikagupta/Desktop/Text-Summarizer'"
      ]
     },
     "execution_count": 4,
     "metadata": {},
     "output_type": "execute_result"
    }
   ],
   "source": [
    "%pwd"
   ]
  },
  {
   "cell_type": "code",
   "execution_count": 5,
   "metadata": {},
   "outputs": [],
   "source": [
    "from dataclasses import dataclass\n",
    "from pathlib import Path\n",
    "\n",
    "\n",
    "@dataclass(frozen=True)\n",
    "class DataTransformationConfig:\n",
    "    root_dir: Path \n",
    "    data_path: Path \n",
    "    tokenizer_name : Path"
   ]
  },
  {
   "cell_type": "code",
   "execution_count": 6,
   "metadata": {},
   "outputs": [],
   "source": [
    "from textSummarizer.constants import *\n",
    "from textSummarizer.utils.common import read_yaml, create_directories"
   ]
  },
  {
   "cell_type": "code",
   "execution_count": 7,
   "metadata": {},
   "outputs": [],
   "source": [
    "class ConfigurationManager:\n",
    "    def __init__(\n",
    "        self,\n",
    "        config_filepath = CONFIG_FILE_PATH,\n",
    "        params_filepath = PARAMS_FILE_PATH\n",
    "    ):\n",
    "\n",
    "        self.config = read_yaml(config_filepath)\n",
    "        self.params = read_yaml(params_filepath)\n",
    "\n",
    "        create_directories([self.config.artifacts_root])\n",
    "\n",
    "\n",
    "    def get_data_transformation_config(self) -> DataTransformationConfig:\n",
    "        config = self.config.data_transformation \n",
    "\n",
    "        create_directories([config.root_dir])\n",
    "\n",
    "        get_data_transformation_config = DataTransformationConfig(\n",
    "            root_dir = config.root_dir,\n",
    "            data_path = config.data_path,\n",
    "            tokenizer_name = config.tokenizer_name\n",
    "        )\n",
    "\n",
    "        return get_data_transformation_config"
   ]
  },
  {
   "cell_type": "code",
   "execution_count": 8,
   "metadata": {},
   "outputs": [
    {
     "name": "stderr",
     "output_type": "stream",
     "text": [
      "/Users/ritikagupta/anaconda3/envs/textS/lib/python3.8/site-packages/tqdm/auto.py:21: TqdmWarning: IProgress not found. Please update jupyter and ipywidgets. See https://ipywidgets.readthedocs.io/en/stable/user_install.html\n",
      "  from .autonotebook import tqdm as notebook_tqdm\n"
     ]
    }
   ],
   "source": [
    "import os\n",
    "from textSummarizer.logging import logger\n",
    "from transformers import AutoTokenizer\n",
    "from datasets import load_dataset, load_from_disk"
   ]
  },
  {
   "cell_type": "code",
   "execution_count": 9,
   "metadata": {},
   "outputs": [],
   "source": [
    "class DataTransformation:\n",
    "    def __init__(self, config: DataTransformationConfig):\n",
    "        self.config = config\n",
    "        self.tokenizer = AutoTokenizer.from_pretrained(config.tokenizer_name)\n",
    "\n",
    "\n",
    "    \n",
    "    def convert_examples_to_features(self,example_batch):\n",
    "        input_encodings = self.tokenizer(example_batch['dialogue'] , max_length = 1024, truncation = True )\n",
    "        \n",
    "        with self.tokenizer.as_target_tokenizer():\n",
    "            target_encodings = self.tokenizer(example_batch['summary'], max_length = 128, truncation = True )\n",
    "            \n",
    "        return {\n",
    "            'input_ids' : input_encodings['input_ids'],\n",
    "            'attention_mask': input_encodings['attention_mask'],\n",
    "            'labels': target_encodings['input_ids']\n",
    "        }\n",
    "    \n",
    "\n",
    "    def convert(self):\n",
    "        dataset_samsum = load_from_disk(self.config.data_path)\n",
    "        dataset_samsum_pt = dataset_samsum.map(self.convert_examples_to_features, batched = True)\n",
    "        dataset_samsum_pt.save_to_disk(os.path.join(self.config.root_dir,\"samsum_dataset\"))"
   ]
  },
  {
   "cell_type": "code",
   "execution_count": 10,
   "metadata": {},
   "outputs": [
    {
     "name": "stdout",
     "output_type": "stream",
     "text": [
      "[2023-10-30 10:42:09,492] INFO: common: yaml file:config/config.yaml loaded successfully]\n",
      "[2023-10-30 10:42:09,494] INFO: common: yaml file:params.yaml loaded successfully]\n",
      "[2023-10-30 10:42:09,495] INFO: common: directory:artifacts created successfully]\n",
      "[2023-10-30 10:42:09,495] INFO: common: directory:artifacts/data_transformation created successfully]\n"
     ]
    },
    {
     "ename": "FileNotFoundError",
     "evalue": "[Errno 2] No such file or directory: 'artifacts/data_ingestion/samsum_dataset/train/data-00000-of-00001.arrow'",
     "output_type": "error",
     "traceback": [
      "\u001b[0;31m---------------------------------------------------------------------------\u001b[0m",
      "\u001b[0;31mFileNotFoundError\u001b[0m                         Traceback (most recent call last)",
      "\u001b[1;32m/Users/ritikagupta/Desktop/Text-Summarizer/research/03_data_transformation.ipynb Cell 10\u001b[0m line \u001b[0;36m7\n\u001b[1;32m      <a href='vscode-notebook-cell:/Users/ritikagupta/Desktop/Text-Summarizer/research/03_data_transformation.ipynb#X12sZmlsZQ%3D%3D?line=4'>5</a>\u001b[0m     data_transformation\u001b[39m.\u001b[39mconvert()\n\u001b[1;32m      <a href='vscode-notebook-cell:/Users/ritikagupta/Desktop/Text-Summarizer/research/03_data_transformation.ipynb#X12sZmlsZQ%3D%3D?line=5'>6</a>\u001b[0m \u001b[39mexcept\u001b[39;00m \u001b[39mException\u001b[39;00m \u001b[39mas\u001b[39;00m e:\n\u001b[0;32m----> <a href='vscode-notebook-cell:/Users/ritikagupta/Desktop/Text-Summarizer/research/03_data_transformation.ipynb#X12sZmlsZQ%3D%3D?line=6'>7</a>\u001b[0m     \u001b[39mraise\u001b[39;00m e\n",
      "\u001b[1;32m/Users/ritikagupta/Desktop/Text-Summarizer/research/03_data_transformation.ipynb Cell 10\u001b[0m line \u001b[0;36m5\n\u001b[1;32m      <a href='vscode-notebook-cell:/Users/ritikagupta/Desktop/Text-Summarizer/research/03_data_transformation.ipynb#X12sZmlsZQ%3D%3D?line=2'>3</a>\u001b[0m     data_transformation_config \u001b[39m=\u001b[39m config\u001b[39m.\u001b[39mget_data_transformation_config()\n\u001b[1;32m      <a href='vscode-notebook-cell:/Users/ritikagupta/Desktop/Text-Summarizer/research/03_data_transformation.ipynb#X12sZmlsZQ%3D%3D?line=3'>4</a>\u001b[0m     data_transformation \u001b[39m=\u001b[39m DataTransformation(config \u001b[39m=\u001b[39m data_transformation_config)\n\u001b[0;32m----> <a href='vscode-notebook-cell:/Users/ritikagupta/Desktop/Text-Summarizer/research/03_data_transformation.ipynb#X12sZmlsZQ%3D%3D?line=4'>5</a>\u001b[0m     data_transformation\u001b[39m.\u001b[39;49mconvert()\n\u001b[1;32m      <a href='vscode-notebook-cell:/Users/ritikagupta/Desktop/Text-Summarizer/research/03_data_transformation.ipynb#X12sZmlsZQ%3D%3D?line=5'>6</a>\u001b[0m \u001b[39mexcept\u001b[39;00m \u001b[39mException\u001b[39;00m \u001b[39mas\u001b[39;00m e:\n\u001b[1;32m      <a href='vscode-notebook-cell:/Users/ritikagupta/Desktop/Text-Summarizer/research/03_data_transformation.ipynb#X12sZmlsZQ%3D%3D?line=6'>7</a>\u001b[0m     \u001b[39mraise\u001b[39;00m e\n",
      "\u001b[1;32m/Users/ritikagupta/Desktop/Text-Summarizer/research/03_data_transformation.ipynb Cell 10\u001b[0m line \u001b[0;36m2\n\u001b[1;32m     <a href='vscode-notebook-cell:/Users/ritikagupta/Desktop/Text-Summarizer/research/03_data_transformation.ipynb#X12sZmlsZQ%3D%3D?line=20'>21</a>\u001b[0m \u001b[39mdef\u001b[39;00m \u001b[39mconvert\u001b[39m(\u001b[39mself\u001b[39m):\n\u001b[0;32m---> <a href='vscode-notebook-cell:/Users/ritikagupta/Desktop/Text-Summarizer/research/03_data_transformation.ipynb#X12sZmlsZQ%3D%3D?line=21'>22</a>\u001b[0m     dataset_samsum \u001b[39m=\u001b[39m load_from_disk(\u001b[39mself\u001b[39;49m\u001b[39m.\u001b[39;49mconfig\u001b[39m.\u001b[39;49mdata_path)\n\u001b[1;32m     <a href='vscode-notebook-cell:/Users/ritikagupta/Desktop/Text-Summarizer/research/03_data_transformation.ipynb#X12sZmlsZQ%3D%3D?line=22'>23</a>\u001b[0m     dataset_samsum_pt \u001b[39m=\u001b[39m dataset_samsum\u001b[39m.\u001b[39mmap(\u001b[39mself\u001b[39m\u001b[39m.\u001b[39mconvert_examples_to_features, batched \u001b[39m=\u001b[39m \u001b[39mTrue\u001b[39;00m)\n\u001b[1;32m     <a href='vscode-notebook-cell:/Users/ritikagupta/Desktop/Text-Summarizer/research/03_data_transformation.ipynb#X12sZmlsZQ%3D%3D?line=23'>24</a>\u001b[0m     dataset_samsum_pt\u001b[39m.\u001b[39msave_to_disk(os\u001b[39m.\u001b[39mpath\u001b[39m.\u001b[39mjoin(\u001b[39mself\u001b[39m\u001b[39m.\u001b[39mconfig\u001b[39m.\u001b[39mroot_dir,\u001b[39m\"\u001b[39m\u001b[39msamsum_dataset\u001b[39m\u001b[39m\"\u001b[39m))\n",
      "File \u001b[0;32m~/anaconda3/envs/textS/lib/python3.8/site-packages/datasets/load.py:2250\u001b[0m, in \u001b[0;36mload_from_disk\u001b[0;34m(dataset_path, fs, keep_in_memory, storage_options)\u001b[0m\n\u001b[1;32m   2248\u001b[0m     \u001b[39mreturn\u001b[39;00m Dataset\u001b[39m.\u001b[39mload_from_disk(dataset_path, keep_in_memory\u001b[39m=\u001b[39mkeep_in_memory, storage_options\u001b[39m=\u001b[39mstorage_options)\n\u001b[1;32m   2249\u001b[0m \u001b[39melif\u001b[39;00m fs\u001b[39m.\u001b[39misfile(path_join(dest_dataset_path, config\u001b[39m.\u001b[39mDATASETDICT_JSON_FILENAME)):\n\u001b[0;32m-> 2250\u001b[0m     \u001b[39mreturn\u001b[39;00m DatasetDict\u001b[39m.\u001b[39;49mload_from_disk(dataset_path, keep_in_memory\u001b[39m=\u001b[39;49mkeep_in_memory, storage_options\u001b[39m=\u001b[39;49mstorage_options)\n\u001b[1;32m   2251\u001b[0m \u001b[39melse\u001b[39;00m:\n\u001b[1;32m   2252\u001b[0m     \u001b[39mraise\u001b[39;00m \u001b[39mFileNotFoundError\u001b[39;00m(\n\u001b[1;32m   2253\u001b[0m         \u001b[39mf\u001b[39m\u001b[39m\"\u001b[39m\u001b[39mDirectory \u001b[39m\u001b[39m{\u001b[39;00mdataset_path\u001b[39m}\u001b[39;00m\u001b[39m is neither a `Dataset` directory nor a `DatasetDict` directory.\u001b[39m\u001b[39m\"\u001b[39m\n\u001b[1;32m   2254\u001b[0m     )\n",
      "File \u001b[0;32m~/anaconda3/envs/textS/lib/python3.8/site-packages/datasets/dataset_dict.py:1371\u001b[0m, in \u001b[0;36mDatasetDict.load_from_disk\u001b[0;34m(dataset_dict_path, fs, keep_in_memory, storage_options)\u001b[0m\n\u001b[1;32m   1365\u001b[0m \u001b[39mfor\u001b[39;00m k \u001b[39min\u001b[39;00m splits:\n\u001b[1;32m   1366\u001b[0m     dataset_dict_split_path \u001b[39m=\u001b[39m (\n\u001b[1;32m   1367\u001b[0m         dataset_dict_path\u001b[39m.\u001b[39msplit(\u001b[39m\"\u001b[39m\u001b[39m://\u001b[39m\u001b[39m\"\u001b[39m)[\u001b[39m0\u001b[39m] \u001b[39m+\u001b[39m \u001b[39m\"\u001b[39m\u001b[39m://\u001b[39m\u001b[39m\"\u001b[39m \u001b[39m+\u001b[39m path_join(dest_dataset_dict_path, k)\n\u001b[1;32m   1368\u001b[0m         \u001b[39mif\u001b[39;00m is_remote_filesystem(fs)\n\u001b[1;32m   1369\u001b[0m         \u001b[39melse\u001b[39;00m path_join(dest_dataset_dict_path, k)\n\u001b[1;32m   1370\u001b[0m     )\n\u001b[0;32m-> 1371\u001b[0m     dataset_dict[k] \u001b[39m=\u001b[39m Dataset\u001b[39m.\u001b[39;49mload_from_disk(\n\u001b[1;32m   1372\u001b[0m         dataset_dict_split_path, keep_in_memory\u001b[39m=\u001b[39;49mkeep_in_memory, storage_options\u001b[39m=\u001b[39;49mstorage_options\n\u001b[1;32m   1373\u001b[0m     )\n\u001b[1;32m   1374\u001b[0m \u001b[39mreturn\u001b[39;00m dataset_dict\n",
      "File \u001b[0;32m~/anaconda3/envs/textS/lib/python3.8/site-packages/datasets/arrow_dataset.py:1704\u001b[0m, in \u001b[0;36mDataset.load_from_disk\u001b[0;34m(dataset_path, fs, keep_in_memory, storage_options)\u001b[0m\n\u001b[1;32m   1701\u001b[0m \u001b[39mwith\u001b[39;00m \u001b[39mopen\u001b[39m(dataset_info_path, encoding\u001b[39m=\u001b[39m\u001b[39m\"\u001b[39m\u001b[39mutf-8\u001b[39m\u001b[39m\"\u001b[39m) \u001b[39mas\u001b[39;00m dataset_info_file:\n\u001b[1;32m   1702\u001b[0m     dataset_info \u001b[39m=\u001b[39m DatasetInfo\u001b[39m.\u001b[39mfrom_dict(json\u001b[39m.\u001b[39mload(dataset_info_file))\n\u001b[0;32m-> 1704\u001b[0m dataset_size \u001b[39m=\u001b[39m estimate_dataset_size(\n\u001b[1;32m   1705\u001b[0m     Path(dest_dataset_path, data_file[\u001b[39m\"\u001b[39;49m\u001b[39mfilename\u001b[39;49m\u001b[39m\"\u001b[39;49m]) \u001b[39mfor\u001b[39;49;00m data_file \u001b[39min\u001b[39;49;00m state[\u001b[39m\"\u001b[39;49m\u001b[39m_data_files\u001b[39;49m\u001b[39m\"\u001b[39;49m]\n\u001b[1;32m   1706\u001b[0m )\n\u001b[1;32m   1707\u001b[0m keep_in_memory \u001b[39m=\u001b[39m keep_in_memory \u001b[39mif\u001b[39;00m keep_in_memory \u001b[39mis\u001b[39;00m \u001b[39mnot\u001b[39;00m \u001b[39mNone\u001b[39;00m \u001b[39melse\u001b[39;00m is_small_dataset(dataset_size)\n\u001b[1;32m   1708\u001b[0m table_cls \u001b[39m=\u001b[39m InMemoryTable \u001b[39mif\u001b[39;00m keep_in_memory \u001b[39melse\u001b[39;00m MemoryMappedTable\n",
      "File \u001b[0;32m~/anaconda3/envs/textS/lib/python3.8/site-packages/datasets/utils/file_utils.py:687\u001b[0m, in \u001b[0;36mestimate_dataset_size\u001b[0;34m(paths)\u001b[0m\n\u001b[1;32m    686\u001b[0m \u001b[39mdef\u001b[39;00m \u001b[39mestimate_dataset_size\u001b[39m(paths):\n\u001b[0;32m--> 687\u001b[0m     \u001b[39mreturn\u001b[39;00m \u001b[39msum\u001b[39;49m(path\u001b[39m.\u001b[39;49mstat()\u001b[39m.\u001b[39;49mst_size \u001b[39mfor\u001b[39;49;00m path \u001b[39min\u001b[39;49;00m paths)\n",
      "File \u001b[0;32m~/anaconda3/envs/textS/lib/python3.8/site-packages/datasets/utils/file_utils.py:687\u001b[0m, in \u001b[0;36m<genexpr>\u001b[0;34m(.0)\u001b[0m\n\u001b[1;32m    686\u001b[0m \u001b[39mdef\u001b[39;00m \u001b[39mestimate_dataset_size\u001b[39m(paths):\n\u001b[0;32m--> 687\u001b[0m     \u001b[39mreturn\u001b[39;00m \u001b[39msum\u001b[39m(path\u001b[39m.\u001b[39;49mstat()\u001b[39m.\u001b[39mst_size \u001b[39mfor\u001b[39;00m path \u001b[39min\u001b[39;00m paths)\n",
      "File \u001b[0;32m~/anaconda3/envs/textS/lib/python3.8/pathlib.py:1198\u001b[0m, in \u001b[0;36mPath.stat\u001b[0;34m(self)\u001b[0m\n\u001b[1;32m   1193\u001b[0m \u001b[39mdef\u001b[39;00m \u001b[39mstat\u001b[39m(\u001b[39mself\u001b[39m):\n\u001b[1;32m   1194\u001b[0m \u001b[39m    \u001b[39m\u001b[39m\"\"\"\u001b[39;00m\n\u001b[1;32m   1195\u001b[0m \u001b[39m    Return the result of the stat() system call on this path, like\u001b[39;00m\n\u001b[1;32m   1196\u001b[0m \u001b[39m    os.stat() does.\u001b[39;00m\n\u001b[1;32m   1197\u001b[0m \u001b[39m    \"\"\"\u001b[39;00m\n\u001b[0;32m-> 1198\u001b[0m     \u001b[39mreturn\u001b[39;00m \u001b[39mself\u001b[39;49m\u001b[39m.\u001b[39;49m_accessor\u001b[39m.\u001b[39;49mstat(\u001b[39mself\u001b[39;49m)\n",
      "\u001b[0;31mFileNotFoundError\u001b[0m: [Errno 2] No such file or directory: 'artifacts/data_ingestion/samsum_dataset/train/data-00000-of-00001.arrow'"
     ]
    }
   ],
   "source": [
    "try:\n",
    "    config = ConfigurationManager()\n",
    "    data_transformation_config = config.get_data_transformation_config()\n",
    "    data_transformation = DataTransformation(config = data_transformation_config)\n",
    "    data_transformation.convert()\n",
    "except Exception as e:\n",
    "    raise e"
   ]
  },
  {
   "cell_type": "code",
   "execution_count": null,
   "metadata": {},
   "outputs": [],
   "source": []
  }
 ],
 "metadata": {
  "kernelspec": {
   "display_name": "textS",
   "language": "python",
   "name": "python3"
  },
  "language_info": {
   "codemirror_mode": {
    "name": "ipython",
    "version": 3
   },
   "file_extension": ".py",
   "mimetype": "text/x-python",
   "name": "python",
   "nbconvert_exporter": "python",
   "pygments_lexer": "ipython3",
   "version": "3.8.18"
  }
 },
 "nbformat": 4,
 "nbformat_minor": 2
}
